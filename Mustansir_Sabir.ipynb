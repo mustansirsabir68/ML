{
  "nbformat": 4,
  "nbformat_minor": 0,
  "metadata": {
    "colab": {
      "name": "Mustansir_Sabir.ipynb",
      "provenance": [],
      "collapsed_sections": []
    },
    "kernelspec": {
      "name": "python3",
      "display_name": "Python 3"
    }
  },
  "cells": [
    {
      "cell_type": "markdown",
      "metadata": {
        "id": "3-WSwHXyMuWM"
      },
      "source": [
        "## **Machine Learning Project**:"
      ]
    },
    {
      "cell_type": "markdown",
      "metadata": {
        "id": "Zjg7zSU-NoOF"
      },
      "source": [
        "**The Problem Statement for the Project is:**\r\n",
        "\r\n",
        "Let us assume there is a Hobby Botanist. She is working on distinguishing various flowers. She had made 4 labels for each flower which will help her to categorize the flowers.This categorizaton is made on the basis of length and width of sepals and petals. An entire database has been created by her. She has contacted her botanist friends across the globe and told them the way to categorize the flowers. These botanists then went out in the real world and took pictures of different flowers and measured the length and width of sepals and petals. They created an entire database by their own domain knowledge and labelled it. Now what happens is the botanist approached us for our expert help in building a machine learning model that can learn from the measurements of these irises contained in the dataset. So basically our machine learning model can learn from that dataset and predict the species or 4 different categories of any new flower. \r\n",
        "\r\n",
        "**Basic Purpose of making such type of ML model is:**\r\n",
        "\r\n",
        "When any unknown flower is brought to you so your machine learning model can predict based on length and width of petals and sepals the species of flower. So what will be the use of such machine learning model? So it will be useful for many volunteers from around the globe who are new to the world of botany can go out in real world and measure the length and width of sepals and petals with help of normal scale and predict which species of flower is that. "
      ]
    },
    {
      "cell_type": "markdown",
      "metadata": {
        "id": "-i8FJV_gMcXU"
      },
      "source": [
        "So here I will first import some libraries important for the project:\r\n",
        "\r\n"
      ]
    },
    {
      "cell_type": "code",
      "metadata": {
        "id": "LchqdnJZL43T"
      },
      "source": [
        "import pandas as pd\r\n",
        "import numpy as np\r\n"
      ],
      "execution_count": 3,
      "outputs": []
    },
    {
      "cell_type": "markdown",
      "metadata": {
        "id": "Vylr80c1NF53"
      },
      "source": [
        "Now I will explore the dataset required for the project that is iris dataset provided by the botanist. I will make use of scikit-learn.\r\n"
      ]
    },
    {
      "cell_type": "code",
      "metadata": {
        "colab": {
          "base_uri": "https://localhost:8080/"
        },
        "id": "9JpqXlPUNfWK",
        "outputId": "7a5db3ca-768a-4474-e216-df27b08a26b9"
      },
      "source": [
        "from sklearn.datasets import load_iris\r\n",
        "iris_dataset = load_iris() \r\n",
        "print(\"Keys of iris_dataset: \\n{}\".format(iris_dataset.keys()))\r\n"
      ],
      "execution_count": 4,
      "outputs": [
        {
          "output_type": "stream",
          "text": [
            "Keys of iris_dataset: \n",
            "dict_keys(['data', 'target', 'target_names', 'DESCR', 'feature_names', 'filename'])\n"
          ],
          "name": "stdout"
        }
      ]
    },
    {
      "cell_type": "markdown",
      "metadata": {
        "id": "ciQxAEQRsJD0"
      },
      "source": [
        "The DESCR keyword is used to give a short description of dataset."
      ]
    },
    {
      "cell_type": "code",
      "metadata": {
        "colab": {
          "base_uri": "https://localhost:8080/"
        },
        "id": "yQix23-PsVi2",
        "outputId": "95a5ec54-d90c-4013-fd30-f9f0d69a24f5"
      },
      "source": [
        "print(iris_dataset['DESCR'][:200] + \"\\n...\")"
      ],
      "execution_count": 5,
      "outputs": [
        {
          "output_type": "stream",
          "text": [
            ".. _iris_dataset:\n",
            "\n",
            "Iris plants dataset\n",
            "--------------------\n",
            "\n",
            "**Data Set Characteristics:**\n",
            "\n",
            "    :Number of Instances: 150 (50 in each of three classes)\n",
            "    :Number of Attributes: 4 numeric, predictive\n",
            "...\n"
          ],
          "name": "stdout"
        }
      ]
    },
    {
      "cell_type": "markdown",
      "metadata": {
        "id": "Cb73SmHTscfS"
      },
      "source": [
        "The value of target names provides the actual values of the flowers that I want to predict. i.e. sentosa, versicolor,etc. So I have printed it here as well from the iris dataset."
      ]
    },
    {
      "cell_type": "code",
      "metadata": {
        "colab": {
          "base_uri": "https://localhost:8080/"
        },
        "id": "R6h5RGRcs7ae",
        "outputId": "13320ce3-4481-403a-9a7d-ac87fca848dc"
      },
      "source": [
        "print(\"Target Names: \\n{}\".format(iris_dataset['target_names']))"
      ],
      "execution_count": 6,
      "outputs": [
        {
          "output_type": "stream",
          "text": [
            "Target Names: \n",
            "['setosa' 'versicolor' 'virginica']\n"
          ],
          "name": "stdout"
        }
      ]
    },
    {
      "cell_type": "markdown",
      "metadata": {
        "id": "oDcIlgBntCXz"
      },
      "source": [
        "Then comes the feature names it provides the features that the flowers are having such as sepal and petal length and width. It is printed as well from the iris dataset as shown."
      ]
    },
    {
      "cell_type": "code",
      "metadata": {
        "colab": {
          "base_uri": "https://localhost:8080/"
        },
        "id": "-unRoIcVtc2s",
        "outputId": "0fa67805-2554-4935-b387-1933df45bef9"
      },
      "source": [
        "print(\"Features Names: \\n{}\".format(iris_dataset['feature_names']))"
      ],
      "execution_count": 7,
      "outputs": [
        {
          "output_type": "stream",
          "text": [
            "Features Names: \n",
            "['sepal length (cm)', 'sepal width (cm)', 'petal length (cm)', 'petal width (cm)']\n"
          ],
          "name": "stdout"
        }
      ]
    },
    {
      "cell_type": "markdown",
      "metadata": {
        "id": "TpVmnApXtlK2"
      },
      "source": [
        "Then the next key value is the type of data which shows us whether the data is a type of list, or ndarray. So I can print the type of data from iris dataset as shown below."
      ]
    },
    {
      "cell_type": "code",
      "metadata": {
        "colab": {
          "base_uri": "https://localhost:8080/"
        },
        "id": "FIauJ9a9uE7w",
        "outputId": "ed70f223-3b5e-4630-bc1b-a720f71e5d67"
      },
      "source": [
        "print(\"Type of Data: \\n{}\".format(type(iris_dataset['data'])))"
      ],
      "execution_count": 8,
      "outputs": [
        {
          "output_type": "stream",
          "text": [
            "Type of Data: \n",
            "<class 'numpy.ndarray'>\n"
          ],
          "name": "stdout"
        }
      ]
    },
    {
      "cell_type": "markdown",
      "metadata": {
        "id": "NqLIF0mvuLEF"
      },
      "source": [
        "Then the another key value in dataset is shape of data. This will display us the measurements for the different flowers present in dataset with its features. It can be printed from iris dataset as shown."
      ]
    },
    {
      "cell_type": "code",
      "metadata": {
        "colab": {
          "base_uri": "https://localhost:8080/"
        },
        "id": "ZBFJrfNNutOh",
        "outputId": "07785a01-80d2-409c-e366-22d9b107d951"
      },
      "source": [
        "print(\"Shape of Data: \\n{}\".format(iris_dataset['data'].shape))"
      ],
      "execution_count": 9,
      "outputs": [
        {
          "output_type": "stream",
          "text": [
            "Shape of Data: \n",
            "(150, 4)\n"
          ],
          "name": "stdout"
        }
      ]
    },
    {
      "cell_type": "markdown",
      "metadata": {
        "id": "ZTrkOemdu_xT"
      },
      "source": [
        "Now as some of the key values are known I can print the first five rows of the iris dataset and see what output it gives us.It can be printed as shown below."
      ]
    },
    {
      "cell_type": "code",
      "metadata": {
        "colab": {
          "base_uri": "https://localhost:8080/"
        },
        "id": "IGsXhPx3vhvL",
        "outputId": "3f5efe67-a423-41be-e67c-8ffd860a11cd"
      },
      "source": [
        "print(\"First five rows of data: \\n{}\".format(iris_dataset['data'][:5]))"
      ],
      "execution_count": 10,
      "outputs": [
        {
          "output_type": "stream",
          "text": [
            "First five rows of data: \n",
            "[[5.1 3.5 1.4 0.2]\n",
            " [4.9 3.  1.4 0.2]\n",
            " [4.7 3.2 1.3 0.2]\n",
            " [4.6 3.1 1.5 0.2]\n",
            " [5.  3.6 1.4 0.2]]\n"
          ],
          "name": "stdout"
        }
      ]
    },
    {
      "cell_type": "markdown",
      "metadata": {
        "id": "otWF359Svnci"
      },
      "source": [
        "As I can see it prints out the measurements of sepals and petals width and length. Now next key value is the target. I will first find the type of target as shown below.\r\n"
      ]
    },
    {
      "cell_type": "code",
      "metadata": {
        "colab": {
          "base_uri": "https://localhost:8080/"
        },
        "id": "w4OfZSdIv9Fg",
        "outputId": "84f50d74-b7ec-480c-fde9-a5cc38ca9a2f"
      },
      "source": [
        "print(\"Type of target: \\n{}\".format(type(iris_dataset['target'])))"
      ],
      "execution_count": 11,
      "outputs": [
        {
          "output_type": "stream",
          "text": [
            "Type of target: \n",
            "<class 'numpy.ndarray'>\n"
          ],
          "name": "stdout"
        }
      ]
    },
    {
      "cell_type": "markdown",
      "metadata": {
        "id": "mPJrBA3SwC4e"
      },
      "source": [
        "As I can see the type of target is ndarray. Now I move on to see the shape of target. It can be printed from dataset as shown below."
      ]
    },
    {
      "cell_type": "code",
      "metadata": {
        "colab": {
          "base_uri": "https://localhost:8080/"
        },
        "id": "S6Cm_XoFwVu7",
        "outputId": "d5f5ff2e-354e-4b1a-dd76-60e66aed3095"
      },
      "source": [
        "print(\"Shape of target: \\n{}\".format(iris_dataset['target'].shape))"
      ],
      "execution_count": 12,
      "outputs": [
        {
          "output_type": "stream",
          "text": [
            "Shape of target: \n",
            "(150,)\n"
          ],
          "name": "stdout"
        }
      ]
    },
    {
      "cell_type": "markdown",
      "metadata": {
        "id": "E3Rfz43dwcAF"
      },
      "source": [
        "As the target is a one-dimensional array, and on seeing the shape I can see that it contains one entry per flower. So next I move to the target field and print the target as shown below. "
      ]
    },
    {
      "cell_type": "code",
      "metadata": {
        "colab": {
          "base_uri": "https://localhost:8080/"
        },
        "id": "jLNe8PA_wvCw",
        "outputId": "f38b54af-62f9-441c-82d9-2493bdc79d9a"
      },
      "source": [
        "print(\"Target: \\n{}\".format(iris_dataset['target']))"
      ],
      "execution_count": 13,
      "outputs": [
        {
          "output_type": "stream",
          "text": [
            "Target: \n",
            "[0 0 0 0 0 0 0 0 0 0 0 0 0 0 0 0 0 0 0 0 0 0 0 0 0 0 0 0 0 0 0 0 0 0 0 0 0\n",
            " 0 0 0 0 0 0 0 0 0 0 0 0 0 1 1 1 1 1 1 1 1 1 1 1 1 1 1 1 1 1 1 1 1 1 1 1 1\n",
            " 1 1 1 1 1 1 1 1 1 1 1 1 1 1 1 1 1 1 1 1 1 1 1 1 1 1 2 2 2 2 2 2 2 2 2 2 2\n",
            " 2 2 2 2 2 2 2 2 2 2 2 2 2 2 2 2 2 2 2 2 2 2 2 2 2 2 2 2 2 2 2 2 2 2 2 2 2\n",
            " 2 2]\n"
          ],
          "name": "stdout"
        }
      ]
    },
    {
      "cell_type": "markdown",
      "metadata": {
        "id": "rfflZpN-w-D5"
      },
      "source": [
        "The meaning of the numbers such as 0,1,2 indicate the names of the flowers. 0 is for setosa, 1 is for versicolor and 2 is for virginica."
      ]
    },
    {
      "cell_type": "markdown",
      "metadata": {
        "id": "RXdPYd7fkjS7"
      },
      "source": [
        "Now as our dataset is ready I will now train our machine learning model by giving values to learn. So I will provide 75% rows of the dataset to the model for learning and remaining 25% I will keep it as a test data. I will create X_train, X_test, y_train, y_test as shown."
      ]
    },
    {
      "cell_type": "code",
      "metadata": {
        "id": "Onn6iSYGTJtp"
      },
      "source": [
        "from sklearn.model_selection import train_test_split\r\n",
        "X_train, X_test, y_train, y_test = train_test_split(\r\n",
        "    iris_dataset['data'], iris_dataset['target'], random_state=0)"
      ],
      "execution_count": 14,
      "outputs": []
    },
    {
      "cell_type": "markdown",
      "metadata": {
        "id": "MW4ThAEflQ11"
      },
      "source": [
        "Now as the dataset is give to the machine learning model to get trained, I am now able to determine the type of data which is trained as shown."
      ]
    },
    {
      "cell_type": "code",
      "metadata": {
        "colab": {
          "base_uri": "https://localhost:8080/"
        },
        "id": "kenwZhpFXvAY",
        "outputId": "50727dc6-05e7-42ac-a92b-755551e143c8"
      },
      "source": [
        "print(\"X_train shape:{}\". format(X_train.shape))\r\n",
        "print(\"y_train shape:{}\". format(y_train.shape))\r\n",
        "print(\"X_test shape:{}\". format(X_test.shape))\r\n",
        "print(\"y_test shape:{}\". format(y_test.shape))"
      ],
      "execution_count": 15,
      "outputs": [
        {
          "output_type": "stream",
          "text": [
            "X_train shape:(112, 4)\n",
            "y_train shape:(112,)\n",
            "X_test shape:(38, 4)\n",
            "y_test shape:(38,)\n"
          ],
          "name": "stdout"
        }
      ]
    },
    {
      "cell_type": "markdown",
      "metadata": {
        "id": "XciQbdrulvvm"
      },
      "source": [
        "Now I will actual train the machine learning model. I will make use of k-nearest classification algorithm. It is used in the model as KNeighborsClassifier class as neighbors module.Before I use it I will instantiate the class into an object as shown below."
      ]
    },
    {
      "cell_type": "code",
      "metadata": {
        "id": "GxQq0pbkXzAT"
      },
      "source": [
        "from sklearn.neighbors import KNeighborsClassifier\r\n",
        "knn = KNeighborsClassifier(n_neighbors=1)\r\n"
      ],
      "execution_count": 16,
      "outputs": []
    },
    {
      "cell_type": "markdown",
      "metadata": {
        "id": "6loMZyfPmp-s"
      },
      "source": [
        "Now the knn object will encapsulate the algorithm that will be used to build the model from the training data, as well as algorithm to make predictions on new data points. To build model on training set, I will need to call the fit method of knn object, such as X_train and y_train as shown below."
      ]
    },
    {
      "cell_type": "code",
      "metadata": {
        "colab": {
          "base_uri": "https://localhost:8080/"
        },
        "id": "mDVDVtH5X5L_",
        "outputId": "eb863cef-16d9-4c3c-beb5-5996ca817c88"
      },
      "source": [
        "knn.fit(X_train, y_train)"
      ],
      "execution_count": 17,
      "outputs": [
        {
          "output_type": "execute_result",
          "data": {
            "text/plain": [
              "KNeighborsClassifier(algorithm='auto', leaf_size=30, metric='minkowski',\n",
              "                     metric_params=None, n_jobs=None, n_neighbors=1, p=2,\n",
              "                     weights='uniform')"
            ]
          },
          "metadata": {
            "tags": []
          },
          "execution_count": 17
        }
      ]
    },
    {
      "cell_type": "markdown",
      "metadata": {
        "id": "2QKAQTOxnbbT"
      },
      "source": [
        "Now I can start to make predictions using this model on new data for which I might not know the correct labels. So now I am going to provide some new values such as sepal and petal length and width for unknown flower."
      ]
    },
    {
      "cell_type": "code",
      "metadata": {
        "colab": {
          "base_uri": "https://localhost:8080/"
        },
        "id": "GBcWKhZTX9CS",
        "outputId": "cb8c7310-e7ff-4bdd-d153-124d4a2051a9"
      },
      "source": [
        "X_new = np.array([[5.2,9,1,0.2]])\r\n",
        "print(\"X_new.shape: {}\". format(X_new.shape))"
      ],
      "execution_count": 24,
      "outputs": [
        {
          "output_type": "stream",
          "text": [
            "X_new.shape: (1, 4)\n"
          ],
          "name": "stdout"
        }
      ]
    },
    {
      "cell_type": "markdown",
      "metadata": {
        "id": "7ctVD9mrphLY"
      },
      "source": [
        "Now that I have made the measurements of this single flower in a row of two-dimensional Numpy array, I am now going to make the predictions."
      ]
    },
    {
      "cell_type": "code",
      "metadata": {
        "colab": {
          "base_uri": "https://localhost:8080/"
        },
        "id": "zE10F7DyYAKQ",
        "outputId": "b16ca4c2-28f1-4dd4-cdd1-6df505cf905c"
      },
      "source": [
        "prediction = knn.predict(X_new)\r\n",
        "print(\"Prediction:{}\". format(prediction))\r\n",
        "print(\"Predicted target name: {}\". format(\r\n",
        "iris_dataset['target_names'][prediction]))"
      ],
      "execution_count": 23,
      "outputs": [
        {
          "output_type": "stream",
          "text": [
            "Prediction:[0]\n",
            "Predicted target name: ['setosa']\n"
          ],
          "name": "stdout"
        }
      ]
    },
    {
      "cell_type": "markdown",
      "metadata": {
        "id": "hQ-U-Dbnqp1P"
      },
      "source": [
        "The whole point of building this model is that I dont know the correct species of the sample, so how we can verify? So here comes the test set that I created earlier. It is not used to build the model but to test the model that it has trained completely or not."
      ]
    },
    {
      "cell_type": "code",
      "metadata": {
        "colab": {
          "base_uri": "https://localhost:8080/"
        },
        "id": "9D-jRAWwYCws",
        "outputId": "19310608-05ea-4c30-a13e-3a3ebd5eb714"
      },
      "source": [
        "y_pred = knn.predict(X_test)\r\n",
        "print(\"Test set predictions:\\n {}\". format(y_pred))"
      ],
      "execution_count": 20,
      "outputs": [
        {
          "output_type": "stream",
          "text": [
            "Test set predictions:\n",
            " [2 1 0 2 0 2 0 1 1 1 2 1 1 1 1 0 1 1 0 0 2 1 0 0 2 0 0 1 1 0 2 1 0 2 2 1 0\n",
            " 2]\n"
          ],
          "name": "stdout"
        }
      ]
    },
    {
      "cell_type": "code",
      "metadata": {
        "colab": {
          "base_uri": "https://localhost:8080/"
        },
        "id": "ighXA5Q_YI9_",
        "outputId": "e9ebf5ba-c87b-4696-b5a5-c0b3db3ebfc3"
      },
      "source": [
        "print(\"Test set score: {}\".format(np.mean(y_pred == y_test)))"
      ],
      "execution_count": 21,
      "outputs": [
        {
          "output_type": "stream",
          "text": [
            "Test set score: 0.9736842105263158\n"
          ],
          "name": "stdout"
        }
      ]
    },
    {
      "cell_type": "markdown",
      "metadata": {
        "id": "Zs3YFtykr9pR"
      },
      "source": [
        "As we can see our accuracy is 0.9736 percentage so our model is accurate enough to predict the species of any unknown flower."
      ]
    }
  ]
}